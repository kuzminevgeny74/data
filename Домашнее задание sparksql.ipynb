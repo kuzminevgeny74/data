{
 "cells": [
  {
   "cell_type": "markdown",
   "id": "ca976884",
   "metadata": {},
   "source": [
    " ### Домашнее задание по теме «Spark SQL»"
   ]
  },
  {
   "cell_type": "markdown",
   "id": "c602c516",
   "metadata": {},
   "source": [
    "Задача 1. Выберите 15 стран с наибольшим процентом переболевших на 31 марта (в выходящем датасете необходимы колонки: iso_code, страна, процент переболевших)"
   ]
  },
  {
   "cell_type": "code",
   "execution_count": 650,
   "id": "2126216a",
   "metadata": {},
   "outputs": [],
   "source": [
    "import findspark\n",
    "findspark.init(r'C:\\SPARK\\spark-3.4.0-bin-hadoop3')\n",
    "from pyspark import SparkContext\n",
    "sc = SparkContext.getOrCreate()"
   ]
  },
  {
   "cell_type": "code",
   "execution_count": 651,
   "id": "e4b9eb1c",
   "metadata": {},
   "outputs": [],
   "source": [
    "import pyspark\n",
    "from pyspark.sql import SparkSession"
   ]
  },
  {
   "cell_type": "code",
   "execution_count": 652,
   "id": "0435ca11",
   "metadata": {},
   "outputs": [],
   "source": [
    "spark = SparkSession.builder.getOrCreate()"
   ]
  },
  {
   "cell_type": "code",
   "execution_count": 653,
   "id": "12416314",
   "metadata": {},
   "outputs": [],
   "source": [
    "df = spark.read.csv(r'C:\\Users\\user\\Documents\\IT\\NETOLOGY\\APACHE SPARK\\owid-covid-data.csv')"
   ]
  },
  {
   "cell_type": "code",
   "execution_count": 654,
   "id": "49a2a791",
   "metadata": {},
   "outputs": [
    {
     "data": {
      "text/plain": [
       "pyspark.sql.dataframe.DataFrame"
      ]
     },
     "execution_count": 654,
     "metadata": {},
     "output_type": "execute_result"
    }
   ],
   "source": [
    "type(df)"
   ]
  },
  {
   "cell_type": "code",
   "execution_count": 655,
   "id": "ab382abc",
   "metadata": {},
   "outputs": [],
   "source": [
    "df = spark.read.option('inferSchema', 'true')\\\n",
    ".option('header', 'true').csv(r'C:\\Users\\user\\Documents\\IT\\NETOLOGY\\APACHE SPARK\\owid-covid-data.csv')"
   ]
  },
  {
   "cell_type": "code",
   "execution_count": 656,
   "id": "18f7c71c",
   "metadata": {},
   "outputs": [],
   "source": [
    "from pyspark.sql.functions import col\n",
    "from pyspark.sql.functions import dayofmonth\n",
    "from pyspark.sql import functions as F\n",
    "from pyspark.sql.functions import sum\n",
    "from pyspark.sql.functions import round \n",
    "from pyspark.sql.functions import date_format\n",
    "spark.sql(\"set spark.sql.legacy.timeParserPolicy=LEGACY\")\n",
    "from pyspark.sql import Window as W\n",
    "from pyspark.sql.functions import row_number\n",
    "from pyspark.sql.functions import max\n",
    "from pyspark.sql.functions import lag"
   ]
  },
  {
   "cell_type": "code",
   "execution_count": null,
   "id": "d1d860ff",
   "metadata": {},
   "outputs": [],
   "source": [
    "# список не стран, который мы исключим из выборки\n"
   ]
  },
  {
   "cell_type": "code",
   "execution_count": 657,
   "id": "56ef5b57",
   "metadata": {},
   "outputs": [],
   "source": [
    "excluded = ['Europe', 'European Union', 'South America', 'North America', 'World', 'Asia', 'Africa']"
   ]
  },
  {
   "cell_type": "code",
   "execution_count": 658,
   "id": "d532dbf3",
   "metadata": {},
   "outputs": [],
   "source": [
    "# сначала просто отфильтруем данные по 31 марта 2021, исключим из списка не страны, колонки total_cases и \n",
    "# population с Null значениями\n",
    "df_1 = df.select('iso_code', 'location', 'date', 'total_cases', 'population')\\\n",
    ".where((df['date']=='2021-03-31') & (~df.location.isin(excluded)) & (F.col('total_cases').isNotNull())\\\n",
    "& (F.col('population').isNotNull()))"
   ]
  },
  {
   "cell_type": "code",
   "execution_count": 659,
   "id": "399fd359",
   "metadata": {},
   "outputs": [
    {
     "name": "stdout",
     "output_type": "stream",
     "text": [
      "+--------+-------------+---------+\n",
      "|iso_code|     location|recovered|\n",
      "+--------+-------------+---------+\n",
      "|     AND|      Andorra|    15.54|\n",
      "|     MNE|   Montenegro|    14.52|\n",
      "|     CZE|      Czechia|    14.31|\n",
      "|     SMR|   San Marino|    13.94|\n",
      "|     SVN|     Slovenia|    10.37|\n",
      "|     LUX|   Luxembourg|     9.85|\n",
      "|     ISR|       Israel|     9.63|\n",
      "|     USA|United States|      9.2|\n",
      "|     SRB|       Serbia|     8.83|\n",
      "|     BHR|      Bahrain|     8.49|\n",
      "|     PAN|       Panama|     8.23|\n",
      "|     PRT|     Portugal|     8.06|\n",
      "|     EST|      Estonia|     8.02|\n",
      "|     SWE|       Sweden|     7.97|\n",
      "|     LTU|    Lithuania|     7.94|\n",
      "+--------+-------------+---------+\n",
      "only showing top 15 rows\n",
      "\n"
     ]
    }
   ],
   "source": [
    "# далее оставляем нужные нам колонки iso_code и location и считаем процент переболевших как total_cases*100/population \n",
    "# и сортируем по убыванию\n",
    "df_1 = df_1.select('iso_code', 'location', (round(F.col('total_cases')*100/F.col('population'),2)).alias('recovered'))\\\n",
    ".orderBy(F.col('recovered').desc()).show(15)"
   ]
  },
  {
   "cell_type": "markdown",
   "id": "623bb7af",
   "metadata": {},
   "source": [
    "Задача 2. Top 10 стран с максимальным зафиксированным кол-вом новых случаев за последнюю неделю марта 2021 в отсортированном порядке по убыванию\n",
    "(в выходящем датасете необходимы колонки: число, страна, кол-во новых случаев)"
   ]
  },
  {
   "cell_type": "code",
   "execution_count": 660,
   "id": "5fdbc19f",
   "metadata": {},
   "outputs": [],
   "source": [
    "# В колонке location помимо стран у нас содержатся также регионы и континенты\n",
    "# Составим список чтобы потом в фильтре их исключить из выборки\n",
    "excluded = ['Europe', 'European Union', 'South America', 'North America', 'World', 'Asia', 'Africa']"
   ]
  },
  {
   "cell_type": "code",
   "execution_count": null,
   "id": "65efb1fa",
   "metadata": {},
   "outputs": [],
   "source": [
    "# 1 способ решения с помощью оконных функций"
   ]
  },
  {
   "cell_type": "code",
   "execution_count": 661,
   "id": "2b74225f",
   "metadata": {},
   "outputs": [],
   "source": [
    "# выделим год месяц и номер недели и искючим из выборки не страны\n",
    "df_3 = df.select('date', date_format(col('date'), 'M').alias('Month'),date_format(col('date'), 'W')\\\n",
    ".alias('week_num'), date_format(col('date'), 'Y').alias('Year'),date_format(col('date'), 'u')\\\n",
    ".alias('week_day_num'), date_format(col('date'), 'E').alias('week_day_abb'), 'location', 'new_cases')\\\n",
    ".where(~df.location.isin(excluded))"
   ]
  },
  {
   "cell_type": "code",
   "execution_count": 662,
   "id": "53fb8610",
   "metadata": {},
   "outputs": [
    {
     "name": "stdout",
     "output_type": "stream",
     "text": [
      "+----------+-----+--------+----+------------+------------+-----------+---------+\n",
      "|      date|Month|week_num|Year|week_day_num|week_day_abb|   location|new_cases|\n",
      "+----------+-----+--------+----+------------+------------+-----------+---------+\n",
      "|2020-02-24|    2|       5|2020|           1|         Mon|Afghanistan|      1.0|\n",
      "|2020-02-25|    2|       5|2020|           2|         Tue|Afghanistan|      0.0|\n",
      "|2020-02-26|    2|       5|2020|           3|         Wed|Afghanistan|      0.0|\n",
      "|2020-02-27|    2|       5|2020|           4|         Thu|Afghanistan|      0.0|\n",
      "|2020-02-28|    2|       5|2020|           5|         Fri|Afghanistan|      0.0|\n",
      "+----------+-----+--------+----+------------+------------+-----------+---------+\n",
      "only showing top 5 rows\n",
      "\n"
     ]
    }
   ],
   "source": [
    "df_3.show(5)"
   ]
  },
  {
   "cell_type": "code",
   "execution_count": 663,
   "id": "fb2d343b",
   "metadata": {},
   "outputs": [],
   "source": [
    "# отфильтруем данные по последней неделе марта 2021 года\n",
    "df_3 = df_3.select('date','week_num','week_day_num', 'week_day_abb', 'location', 'new_cases')\\\n",
    ".where((df_3['Year']==2021) & (df_3['Month']==3) & (df_3['week_num']==5))"
   ]
  },
  {
   "cell_type": "code",
   "execution_count": 664,
   "id": "81d9d2ce",
   "metadata": {},
   "outputs": [
    {
     "name": "stdout",
     "output_type": "stream",
     "text": [
      "+----------+--------+------------+------------+-----------+---------+\n",
      "|      date|week_num|week_day_num|week_day_abb|   location|new_cases|\n",
      "+----------+--------+------------+------------+-----------+---------+\n",
      "|2021-03-28|       5|           7|         Sun|Afghanistan|      4.0|\n",
      "|2021-03-29|       5|           1|         Mon|Afghanistan|     28.0|\n",
      "|2021-03-30|       5|           2|         Tue|Afghanistan|     62.0|\n",
      "|2021-03-31|       5|           3|         Wed|Afghanistan|     70.0|\n",
      "|2021-03-28|       5|           7|         Sun|    Albania|    493.0|\n",
      "+----------+--------+------------+------------+-----------+---------+\n",
      "only showing top 5 rows\n",
      "\n"
     ]
    }
   ],
   "source": [
    "df_3.show(5)"
   ]
  },
  {
   "cell_type": "code",
   "execution_count": 665,
   "id": "9892f839",
   "metadata": {},
   "outputs": [],
   "source": [
    "# c помощью оконной функции отсортируем данные по странам и с помощью row_number присвоим наибольшему количеству\n",
    "# new_cases номер 1\n",
    "df_3 = df_3.select('*', F.row_number().over(W.partitionBy('location').orderBy(col('new_cases').desc())).alias('row_num'))"
   ]
  },
  {
   "cell_type": "code",
   "execution_count": 667,
   "id": "9f43deea",
   "metadata": {},
   "outputs": [
    {
     "name": "stdout",
     "output_type": "stream",
     "text": [
      "+----------+--------+------------+------------+-----------+---------+-------+\n",
      "|      date|week_num|week_day_num|week_day_abb|   location|new_cases|row_num|\n",
      "+----------+--------+------------+------------+-----------+---------+-------+\n",
      "|2021-03-31|       5|           3|         Wed|Afghanistan|     70.0|      1|\n",
      "|2021-03-30|       5|           2|         Tue|Afghanistan|     62.0|      2|\n",
      "|2021-03-29|       5|           1|         Mon|Afghanistan|     28.0|      3|\n",
      "|2021-03-28|       5|           7|         Sun|Afghanistan|      4.0|      4|\n",
      "|2021-03-28|       5|           7|         Sun|    Albania|    493.0|      1|\n",
      "+----------+--------+------------+------------+-----------+---------+-------+\n",
      "only showing top 5 rows\n",
      "\n"
     ]
    }
   ],
   "source": [
    "df_3.show(5)"
   ]
  },
  {
   "cell_type": "code",
   "execution_count": 668,
   "id": "668a49d4",
   "metadata": {},
   "outputs": [
    {
     "name": "stdout",
     "output_type": "stream",
     "text": [
      "+----------+-------------+---------+\n",
      "|      date|     location|new_cases|\n",
      "+----------+-------------+---------+\n",
      "|2021-03-31|       Brazil|  90638.0|\n",
      "|2021-03-31|        India|  72330.0|\n",
      "|2021-03-29|United States|  69429.0|\n",
      "|2021-03-31|       France|  59054.0|\n",
      "|2021-03-31|       Turkey|  39302.0|\n",
      "|2021-03-31|       Poland|  32891.0|\n",
      "|2021-03-31|      Germany|  25014.0|\n",
      "|2021-03-31|        Italy|  23887.0|\n",
      "|2021-03-30|       Sweden|  16427.0|\n",
      "|2021-03-31|    Argentina|  16056.0|\n",
      "|2021-03-31|         Peru|  15686.0|\n",
      "|2021-03-29|        Spain|  15501.0|\n",
      "|2021-03-28|      Ukraine|  12041.0|\n",
      "|2021-03-31|         Iran|  10330.0|\n",
      "|2021-03-29|  Philippines|  10002.0|\n",
      "+----------+-------------+---------+\n",
      "only showing top 15 rows\n",
      "\n"
     ]
    }
   ],
   "source": [
    "# отфильтруем наши данные по row_number 1 и расположим количество new_cases в порядке убывания и выведем 15 строк\n",
    "df_3.select('date', 'location', 'new_cases',).where(df_3['row_num']==1).orderBy(F.desc('new_cases')).show(15)"
   ]
  },
  {
   "cell_type": "code",
   "execution_count": null,
   "id": "005651ab",
   "metadata": {},
   "outputs": [],
   "source": [
    "# решим задачу 2 способом с помощью max и join"
   ]
  },
  {
   "cell_type": "code",
   "execution_count": 669,
   "id": "7c91eaec",
   "metadata": {},
   "outputs": [],
   "source": [
    "# отфильтруем наши данные по последней неделе марта и исключим не страны\n",
    "df_4 = df.select('date', 'location', 'new_cases')\\\n",
    ".where((date_format(col('date'), 'Y')==2021) & (date_format(col('date'), 'M')==3)\\\n",
    "& (date_format(col('date'), 'W')==5) & (~df.location.isin(excluded)))"
   ]
  },
  {
   "cell_type": "code",
   "execution_count": 670,
   "id": "684fefdc",
   "metadata": {},
   "outputs": [
    {
     "name": "stdout",
     "output_type": "stream",
     "text": [
      "+----------+-----------+---------+\n",
      "|      date|   location|new_cases|\n",
      "+----------+-----------+---------+\n",
      "|2021-03-28|Afghanistan|      4.0|\n",
      "|2021-03-29|Afghanistan|     28.0|\n",
      "|2021-03-30|Afghanistan|     62.0|\n",
      "|2021-03-31|Afghanistan|     70.0|\n",
      "|2021-03-28|    Albania|    493.0|\n",
      "|2021-03-29|    Albania|    285.0|\n",
      "|2021-03-30|    Albania|    304.0|\n",
      "|2021-03-31|    Albania|    434.0|\n",
      "|2021-03-28|    Algeria|     86.0|\n",
      "|2021-03-29|    Algeria|    110.0|\n",
      "|2021-03-30|    Algeria|    115.0|\n",
      "|2021-03-31|    Algeria|    131.0|\n",
      "|2021-03-28|    Andorra|     41.0|\n",
      "|2021-03-29|    Andorra|     38.0|\n",
      "|2021-03-30|    Andorra|     56.0|\n",
      "|2021-03-31|    Andorra|     66.0|\n",
      "|2021-03-28|     Angola|     32.0|\n",
      "|2021-03-29|     Angola|     69.0|\n",
      "|2021-03-30|     Angola|     50.0|\n",
      "|2021-03-31|     Angola|    129.0|\n",
      "+----------+-----------+---------+\n",
      "only showing top 20 rows\n",
      "\n"
     ]
    }
   ],
   "source": [
    "df_4.show()"
   ]
  },
  {
   "cell_type": "code",
   "execution_count": 671,
   "id": "b4d5730f",
   "metadata": {},
   "outputs": [],
   "source": [
    "# найдем максимальное значение new_cases для страны и расположим их в порядке убывания\n",
    "df_5 = df_4.groupBy('location').agg(max('new_cases').alias('max_cases')).orderBy(F.desc(max('new_cases')))"
   ]
  },
  {
   "cell_type": "code",
   "execution_count": 672,
   "id": "694fa671",
   "metadata": {},
   "outputs": [
    {
     "name": "stdout",
     "output_type": "stream",
     "text": [
      "+-------------+---------+\n",
      "|     location|max_cases|\n",
      "+-------------+---------+\n",
      "|       Brazil|  90638.0|\n",
      "|        India|  72330.0|\n",
      "|United States|  69429.0|\n",
      "|       France|  59054.0|\n",
      "|       Turkey|  39302.0|\n",
      "|       Poland|  32891.0|\n",
      "|      Germany|  25014.0|\n",
      "|        Italy|  23887.0|\n",
      "|       Sweden|  16427.0|\n",
      "|    Argentina|  16056.0|\n",
      "|         Peru|  15686.0|\n",
      "|        Spain|  15501.0|\n",
      "|      Ukraine|  12041.0|\n",
      "|         Iran|  10330.0|\n",
      "|  Philippines|  10002.0|\n",
      "|       Serbia|   9983.0|\n",
      "|      Hungary|   9082.0|\n",
      "|       Russia|   8979.0|\n",
      "|       Canada|   8728.0|\n",
      "|      Czechia|   8664.0|\n",
      "+-------------+---------+\n",
      "only showing top 20 rows\n",
      "\n"
     ]
    }
   ],
   "source": [
    "df_5.show()"
   ]
  },
  {
   "cell_type": "code",
   "execution_count": 673,
   "id": "2c0d3e44",
   "metadata": {},
   "outputs": [
    {
     "name": "stdout",
     "output_type": "stream",
     "text": [
      "+----------+-------------+---------+\n",
      "|      date|     location|max_cases|\n",
      "+----------+-------------+---------+\n",
      "|2021-03-31|       Brazil|  90638.0|\n",
      "|2021-03-31|        India|  72330.0|\n",
      "|2021-03-29|United States|  69429.0|\n",
      "|2021-03-31|       France|  59054.0|\n",
      "|2021-03-31|       Turkey|  39302.0|\n",
      "|2021-03-31|       Poland|  32891.0|\n",
      "|2021-03-31|      Germany|  25014.0|\n",
      "|2021-03-31|        Italy|  23887.0|\n",
      "|2021-03-30|       Sweden|  16427.0|\n",
      "|2021-03-31|    Argentina|  16056.0|\n",
      "|2021-03-31|         Peru|  15686.0|\n",
      "|2021-03-29|        Spain|  15501.0|\n",
      "|2021-03-28|      Ukraine|  12041.0|\n",
      "|2021-03-31|         Iran|  10330.0|\n",
      "|2021-03-29|  Philippines|  10002.0|\n",
      "+----------+-------------+---------+\n",
      "only showing top 15 rows\n",
      "\n"
     ]
    }
   ],
   "source": [
    "# с помощью join соединим два датафрейма по location и max_cases, уберем ненужные колонки и отсортируем количество \n",
    "# новых случаев в порядке убывания и выведем 15 строк. Проверяем первое и второе решение совпало.\n",
    "df_4.join(df_5, (df_4[\"location\"] == df_5[\"location\"]) &( df_4[\"new_cases\"] == df_5[\"max_cases\"]))\\\n",
    ".drop(df_4['new_cases'], df_4['location']).orderBy(F.desc('max_cases')).show(15)"
   ]
  },
  {
   "cell_type": "markdown",
   "id": "cba0e408",
   "metadata": {},
   "source": [
    "Задача 3. Посчитайте изменение случаев относительно предыдущего дня в России за последнюю неделю марта 2021. (например: в россии вчера было 9150 , сегодня 8763, итог: -387) (в выходящем датасете необходимы колонки: число, кол-во новых случаев вчера, кол-во новых случаев сегодня, дельта)"
   ]
  },
  {
   "cell_type": "code",
   "execution_count": 675,
   "id": "2082401a",
   "metadata": {},
   "outputs": [],
   "source": [
    "# найдем даты которые соответствуют последней неделе марта 2021\n",
    "res = df.select('date').where((date_format(col('date'), 'Y')==2021) & (date_format(col('date'), 'M')==3)\\\n",
    "& (date_format(col('date'), 'W')==5) & (F.col('location')=='Russia')).orderBy(F.col('date'))"
   ]
  },
  {
   "cell_type": "code",
   "execution_count": 676,
   "id": "b035718e",
   "metadata": {},
   "outputs": [
    {
     "name": "stdout",
     "output_type": "stream",
     "text": [
      "+----------+\n",
      "|      date|\n",
      "+----------+\n",
      "|2021-03-28|\n",
      "|2021-03-29|\n",
      "|2021-03-30|\n",
      "|2021-03-31|\n",
      "+----------+\n",
      "\n"
     ]
    }
   ],
   "source": [
    "res.show()"
   ]
  },
  {
   "cell_type": "code",
   "execution_count": 678,
   "id": "aac660ad",
   "metadata": {},
   "outputs": [
    {
     "data": {
      "text/plain": [
       "datetime.date(2021, 3, 27)"
      ]
     },
     "execution_count": 678,
     "metadata": {},
     "output_type": "execute_result"
    }
   ],
   "source": [
    "# чтобы в нашу последуюущую выборку включить количество новых случаев вчера для даты 2021-03-28 найдем дату на 1 день раньше\n",
    "# и присовим это значение переменной start_date\n",
    "start_date = res.select(F.date_sub(F.min('date'),1)).first()[0]\n",
    "start_date"
   ]
  },
  {
   "cell_type": "code",
   "execution_count": 679,
   "id": "331d202d",
   "metadata": {},
   "outputs": [
    {
     "data": {
      "text/plain": [
       "datetime.date(2021, 3, 31)"
      ]
     },
     "execution_count": 679,
     "metadata": {},
     "output_type": "execute_result"
    }
   ],
   "source": [
    "# введем переменную end_date и присвоим последнее значение даты в нашей выборке\n",
    "end_date = res.select(F.max('date')).first()[0]\n",
    "end_date"
   ]
  },
  {
   "cell_type": "code",
   "execution_count": 680,
   "id": "624e9c87",
   "metadata": {},
   "outputs": [],
   "source": [
    "# отфильтруем изначальный датасет на основании start_date и end_date\n",
    "df_6 = df.select('date', 'new_cases').where((F.col('date') >= start_date) & (F.col('date') <= end_date)\\\n",
    "& (F.col('location')=='Russia')).orderBy(F.col('date'))"
   ]
  },
  {
   "cell_type": "code",
   "execution_count": 681,
   "id": "63d08aa1",
   "metadata": {},
   "outputs": [
    {
     "name": "stdout",
     "output_type": "stream",
     "text": [
      "+----------+---------+\n",
      "|      date|new_cases|\n",
      "+----------+---------+\n",
      "|2021-03-27|   8783.0|\n",
      "|2021-03-28|   8979.0|\n",
      "|2021-03-29|   8589.0|\n",
      "|2021-03-30|   8162.0|\n",
      "|2021-03-31|   8156.0|\n",
      "+----------+---------+\n",
      "\n"
     ]
    }
   ],
   "source": [
    "df_6.show()"
   ]
  },
  {
   "cell_type": "code",
   "execution_count": 682,
   "id": "db477fce",
   "metadata": {},
   "outputs": [
    {
     "name": "stdout",
     "output_type": "stream",
     "text": [
      "+----------+-----------+---------------+------+\n",
      "|      date|cases_today|cases_yesterday| delta|\n",
      "+----------+-----------+---------------+------+\n",
      "|2021-03-28|     8979.0|         8783.0| 196.0|\n",
      "|2021-03-29|     8589.0|         8979.0|-390.0|\n",
      "|2021-03-30|     8162.0|         8589.0|-427.0|\n",
      "|2021-03-31|     8156.0|         8162.0|  -6.0|\n",
      "+----------+-----------+---------------+------+\n",
      "\n"
     ]
    }
   ],
   "source": [
    "# с помощью оконной функции и метода lag найдем количество случаев на день ранее\n",
    "# и удалим строку с null которая нам и не нужна, таким образом мы получили данные по количеству новых случаев вчера\n",
    "# и дельту для каждой даты нашей выборки согласно условию задачи\n",
    "df_6.select('date', F.col('new_cases').alias('cases_today'), lag('new_cases', 1,)\\\n",
    ".over(W.orderBy('date')).alias('cases_yesterday'), (F.col('new_cases') - lag('new_cases', 1,).over(W.orderBy('date')))\\\n",
    ".alias('delta')).dropna().show()"
   ]
  },
  {
   "cell_type": "code",
   "execution_count": 683,
   "id": "1d0fbe1b",
   "metadata": {},
   "outputs": [],
   "source": [
    "spark.stop()\n",
    "sc.stop()"
   ]
  }
 ],
 "metadata": {
  "kernelspec": {
   "display_name": "Python 3 (ipykernel)",
   "language": "python",
   "name": "python3"
  },
  "language_info": {
   "codemirror_mode": {
    "name": "ipython",
    "version": 3
   },
   "file_extension": ".py",
   "mimetype": "text/x-python",
   "name": "python",
   "nbconvert_exporter": "python",
   "pygments_lexer": "ipython3",
   "version": "3.9.7"
  }
 },
 "nbformat": 4,
 "nbformat_minor": 5
}

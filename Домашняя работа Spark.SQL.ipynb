{
 "cells": [
  {
   "cell_type": "markdown",
   "id": "ca976884",
   "metadata": {},
   "source": [
    " ### Домашнее задание по теме «Spark SQL»"
   ]
  },
  {
   "cell_type": "markdown",
   "id": "c602c516",
   "metadata": {},
   "source": [
    "Задача 1. Выберите 15 стран с наибольшим процентом переболевших на 31 марта (в выходящем датасете необходимы колонки: iso_code, страна, процент переболевших)"
   ]
  },
  {
   "cell_type": "code",
   "execution_count": 530,
   "id": "2126216a",
   "metadata": {},
   "outputs": [],
   "source": [
    "import findspark\n",
    "findspark.init(r'C:\\SPARK\\spark-3.4.0-bin-hadoop3')\n",
    "from pyspark import SparkContext\n",
    "sc = SparkContext.getOrCreate()"
   ]
  },
  {
   "cell_type": "code",
   "execution_count": 531,
   "id": "e4b9eb1c",
   "metadata": {},
   "outputs": [],
   "source": [
    "import pyspark\n",
    "from pyspark.sql import SparkSession"
   ]
  },
  {
   "cell_type": "code",
   "execution_count": 533,
   "id": "0435ca11",
   "metadata": {},
   "outputs": [],
   "source": [
    "spark = SparkSession.builder.getOrCreate()"
   ]
  },
  {
   "cell_type": "code",
   "execution_count": 534,
   "id": "12416314",
   "metadata": {},
   "outputs": [],
   "source": [
    "df = spark.read.csv(r'C:\\Users\\user\\Documents\\IT\\NETOLOGY\\APACHE SPARK\\owid-covid-data.csv')"
   ]
  },
  {
   "cell_type": "code",
   "execution_count": 535,
   "id": "49a2a791",
   "metadata": {},
   "outputs": [
    {
     "data": {
      "text/plain": [
       "pyspark.sql.dataframe.DataFrame"
      ]
     },
     "execution_count": 535,
     "metadata": {},
     "output_type": "execute_result"
    }
   ],
   "source": [
    "type(df)"
   ]
  },
  {
   "cell_type": "code",
   "execution_count": 536,
   "id": "ab382abc",
   "metadata": {},
   "outputs": [],
   "source": [
    "df = spark.read.option('inferSchema', 'true').option('header', 'true').csv(r'C:\\Users\\user\\Documents\\IT\\NETOLOGY\\APACHE SPARK\\owid-covid-data.csv')"
   ]
  },
  {
   "cell_type": "code",
   "execution_count": 537,
   "id": "18f7c71c",
   "metadata": {},
   "outputs": [],
   "source": [
    "from pyspark.sql.functions import col\n",
    "from pyspark.sql.functions import dayofmonth\n",
    "from pyspark.sql import functions as F\n",
    "from pyspark.sql.functions import sum\n",
    "from pyspark.sql.functions import round \n",
    "from pyspark.sql.functions import date_format\n",
    "spark.sql(\"set spark.sql.legacy.timeParserPolicy=LEGACY\")\n",
    "from pyspark.sql import Window as W\n",
    "from pyspark.sql.functions import row_number\n",
    "from pyspark.sql.functions import max\n",
    "from pyspark.sql.functions import lag"
   ]
  },
  {
   "cell_type": "code",
   "execution_count": null,
   "id": "d1d860ff",
   "metadata": {},
   "outputs": [],
   "source": [
    "# не совсем понятно по какому срезу делать фильтр, так как дана просто дата\n",
    "# поэтому я отфильтрую данные просто за 31 марта по всем годам, а потом просто суммирую"
   ]
  },
  {
   "cell_type": "code",
   "execution_count": 545,
   "id": "d532dbf3",
   "metadata": {},
   "outputs": [],
   "source": [
    "# сначала просто отфильтруем данные по месяцу марту и 31 числу\n",
    "df_1 = df.select('iso_code', 'location', dayofmonth('date').alias('day_of_month'), 'total_cases', 'new_cases').where((date_format(col('date'), 'M')==3) & (dayofmonth('date')==31))"
   ]
  },
  {
   "cell_type": "code",
   "execution_count": 546,
   "id": "399fd359",
   "metadata": {},
   "outputs": [
    {
     "name": "stdout",
     "output_type": "stream",
     "text": [
      "+--------+-----------+------------+-----------+---------+\n",
      "|iso_code|   location|day_of_month|total_cases|new_cases|\n",
      "+--------+-----------+------------+-----------+---------+\n",
      "|     AFG|Afghanistan|          31|      175.0|     29.0|\n",
      "|     AFG|Afghanistan|          31|    56454.0|     70.0|\n",
      "|OWID_AFR|     Africa|          31|     5781.0|    585.0|\n",
      "|OWID_AFR|     Africa|          31|  4217313.0|  12752.0|\n",
      "|     ALB|    Albania|          31|      243.0|     20.0|\n",
      "+--------+-----------+------------+-----------+---------+\n",
      "only showing top 5 rows\n",
      "\n"
     ]
    }
   ],
   "source": [
    "df_1.show(5)"
   ]
  },
  {
   "cell_type": "code",
   "execution_count": 547,
   "id": "760ba27e",
   "metadata": {},
   "outputs": [],
   "source": [
    "# не понятно, как считать количество переболевших. я количество переболевших считал как total_cases - new_cases\n",
    "# процент переболевших считал как (total_cases - new_cases)/total_cases\n",
    "df_1 = df_1.groupBy('iso_code', 'location').agg(sum('total_cases').alias('total_cases'), sum('new_cases').alias('new_cases'), (sum('total_cases')-sum('new_cases')).alias('recovered'),((sum('total_cases')-sum('new_cases'))/(sum('total_cases'))).alias('recovered_ratio'))"
   ]
  },
  {
   "cell_type": "code",
   "execution_count": 548,
   "id": "60023dff",
   "metadata": {},
   "outputs": [
    {
     "name": "stdout",
     "output_type": "stream",
     "text": [
      "+--------+-----------+-----------+---------+---------+------------------+\n",
      "|iso_code|   location|total_cases|new_cases|recovered|   recovered_ratio|\n",
      "+--------+-----------+-----------+---------+---------+------------------+\n",
      "|     AUT|    Austria|   556409.0|   4249.0| 552160.0|0.9923635311434574|\n",
      "|     COL|   Colombia|  2407283.0|   8754.0|2398529.0| 0.996363535155609|\n",
      "|     BHS|    Bahamas|     9133.0|      0.0|   9133.0|               1.0|\n",
      "|     CHN|      China|   184011.0|    103.0| 183908.0|0.9994402508545684|\n",
      "|     AFG|Afghanistan|    56629.0|     99.0|  56530.0|0.9982517791237705|\n",
      "+--------+-----------+-----------+---------+---------+------------------+\n",
      "only showing top 5 rows\n",
      "\n"
     ]
    }
   ],
   "source": [
    "df_1.show(5)"
   ]
  },
  {
   "cell_type": "code",
   "execution_count": 549,
   "id": "325ee367",
   "metadata": {
    "scrolled": true
   },
   "outputs": [
    {
     "name": "stdout",
     "output_type": "stream",
     "text": [
      "+--------+--------------------+---------------+\n",
      "|iso_code|            location|recovered_ratio|\n",
      "+--------+--------------------+---------------+\n",
      "|     COM|             Comoros|            1.0|\n",
      "|     ATG| Antigua and Barbuda|            1.0|\n",
      "|     BHS|             Bahamas|            1.0|\n",
      "|     GNQ|   Equatorial Guinea|            1.0|\n",
      "|     HTI|               Haiti|            1.0|\n",
      "|     FJI|                Fiji|            1.0|\n",
      "|     COG|               Congo|            1.0|\n",
      "|     CAF|Central African R...|            1.0|\n",
      "|     GRD|             Grenada|            1.0|\n",
      "|     FSM|Micronesia (country)|            1.0|\n",
      "|     LBR|             Liberia|            1.0|\n",
      "|OWID_INT|       International|            1.0|\n",
      "|     MHL|    Marshall Islands|            1.0|\n",
      "|     NER|               Niger|            1.0|\n",
      "|     WSM|               Samoa|            1.0|\n",
      "+--------+--------------------+---------------+\n",
      "only showing top 15 rows\n",
      "\n"
     ]
    }
   ],
   "source": [
    "# вывоодим данные в порядке убывания и берем 15 строк\n",
    "df_1 = df_1.select('iso_code', 'location', 'recovered_ratio').orderBy(F.col('recovered_ratio').desc()).show(15)"
   ]
  },
  {
   "cell_type": "code",
   "execution_count": null,
   "id": "201e2cb7",
   "metadata": {},
   "outputs": [],
   "source": [
    "# если имелось ввиду 31 марта 2021 года так как в остальных заданиях у нас фигурирует этот год\n",
    "# то можно посчитать следующим образом"
   ]
  },
  {
   "cell_type": "code",
   "execution_count": 538,
   "id": "531e478e",
   "metadata": {},
   "outputs": [],
   "source": [
    "# фильтруем данные по дате 2021-03-31\n",
    "df_2 = df.select('iso_code', 'location', 'date', 'total_cases', 'new_cases').where(df['date']=='2021-03-31')"
   ]
  },
  {
   "cell_type": "code",
   "execution_count": 539,
   "id": "81f68688",
   "metadata": {},
   "outputs": [
    {
     "name": "stdout",
     "output_type": "stream",
     "text": [
      "+--------+-------------------+----------+-----------+---------+\n",
      "|iso_code|           location|      date|total_cases|new_cases|\n",
      "+--------+-------------------+----------+-----------+---------+\n",
      "|     AFG|        Afghanistan|2021-03-31|    56454.0|     70.0|\n",
      "|OWID_AFR|             Africa|2021-03-31|  4217313.0|  12752.0|\n",
      "|     ALB|            Albania|2021-03-31|   125157.0|    434.0|\n",
      "|     DZA|            Algeria|2021-03-31|   117192.0|    131.0|\n",
      "|     AND|            Andorra|2021-03-31|    12010.0|     66.0|\n",
      "|     AGO|             Angola|2021-03-31|    22311.0|    129.0|\n",
      "|     AIA|           Anguilla|2021-03-31|       null|     null|\n",
      "|     ATG|Antigua and Barbuda|2021-03-31|     1136.0|      0.0|\n",
      "|     ARG|          Argentina|2021-03-31|  2348821.0|  16056.0|\n",
      "|     ARM|            Armenia|2021-03-31|   192639.0|   1148.0|\n",
      "|OWID_ASI|               Asia|2021-03-31|2.8507133E7| 183350.0|\n",
      "|     AUS|          Australia|2021-03-31|    29322.0|     18.0|\n",
      "|     AUT|            Austria|2021-03-31|   546229.0|   3687.0|\n",
      "|     AZE|         Azerbaijan|2021-03-31|   261713.0|   2237.0|\n",
      "|     BHS|            Bahamas|2021-03-31|     9119.0|      0.0|\n",
      "|     BHR|            Bahrain|2021-03-31|   144445.0|    871.0|\n",
      "|     BGD|         Bangladesh|2021-03-31|   611295.0|   5358.0|\n",
      "|     BRB|           Barbados|2021-03-31|     3652.0|     10.0|\n",
      "|     BLR|            Belarus|2021-03-31|   321807.0|   1213.0|\n",
      "|     BEL|            Belgium|2021-03-31|   882453.0|   5611.0|\n",
      "+--------+-------------------+----------+-----------+---------+\n",
      "only showing top 20 rows\n",
      "\n"
     ]
    }
   ],
   "source": [
    "# смотрим на данные\n",
    "df_2.show()"
   ]
  },
  {
   "cell_type": "code",
   "execution_count": 555,
   "id": "45cd885d",
   "metadata": {},
   "outputs": [
    {
     "name": "stdout",
     "output_type": "stream",
     "text": [
      "+--------+--------------------+-----+\n",
      "|iso_code|            location|ratio|\n",
      "+--------+--------------------+-----+\n",
      "|     CAF|Central African R...|100.0|\n",
      "|     TJK|          Tajikistan|100.0|\n",
      "|     MHL|    Marshall Islands|100.0|\n",
      "|     HTI|               Haiti|100.0|\n",
      "|     LAO|                Laos|100.0|\n",
      "|     LBR|             Liberia|100.0|\n",
      "|     TGO|                Togo|100.0|\n",
      "|     DMA|            Dominica|100.0|\n",
      "|     WSM|               Samoa|100.0|\n",
      "|     KNA|Saint Kitts and N...|100.0|\n",
      "|     NIC|           Nicaragua|100.0|\n",
      "|     NER|               Niger|100.0|\n",
      "|     VAT|             Vatican|100.0|\n",
      "|     COG|               Congo|100.0|\n",
      "|     BWA|            Botswana|100.0|\n",
      "+--------+--------------------+-----+\n",
      "only showing top 15 rows\n",
      "\n"
     ]
    }
   ],
   "source": [
    "# делаем группировку по 'iso_code' и 'location' и делаем все вычисления и затем сортируем в порядке убывания и выводим 15 строк\n",
    "df_2.groupBy('iso_code', 'location').agg(((sum('total_cases')-sum('new_cases'))*100/sum('total_cases')).alias('ratio')).orderBy(F.col('ratio').desc()).show(15)"
   ]
  },
  {
   "cell_type": "markdown",
   "id": "623bb7af",
   "metadata": {},
   "source": [
    "Задача 2. Top 10 стран с максимальным зафиксированным кол-вом новых случаев за последнюю неделю марта 2021 в отсортированном порядке по убыванию\n",
    "(в выходящем датасете необходимы колонки: число, страна, кол-во новых случаев)"
   ]
  },
  {
   "cell_type": "code",
   "execution_count": null,
   "id": "5fdbc19f",
   "metadata": {},
   "outputs": [],
   "source": [
    "# В колонке location помимо стран у нас содержатся также регионы и континенты\n",
    "# Составим список чтобы потом в фильтре их исключить из выборки\n",
    "excluded = ['Europe', 'European Union', 'South America', 'North America', 'World', 'Asia', 'Africa']"
   ]
  },
  {
   "cell_type": "code",
   "execution_count": null,
   "id": "65efb1fa",
   "metadata": {},
   "outputs": [],
   "source": [
    "# 1 способ решения с помощью оконных функций"
   ]
  },
  {
   "cell_type": "code",
   "execution_count": 563,
   "id": "2b74225f",
   "metadata": {},
   "outputs": [],
   "source": [
    "# выделим год месяц и номер недели и искючим из выборки не страны\n",
    "df_3 = df.select('date', date_format(col('date'), 'M').alias('Month'),date_format(col('date'), 'W').alias('week_num'), date_format(col('date'), 'Y').alias('Year'),date_format(col('date'), 'u').alias('week_day_num'), date_format(col('date'), 'E').alias('week_day_abb'), 'location', 'new_cases').where(~df.location.isin(excluded))"
   ]
  },
  {
   "cell_type": "code",
   "execution_count": 564,
   "id": "53fb8610",
   "metadata": {},
   "outputs": [
    {
     "name": "stdout",
     "output_type": "stream",
     "text": [
      "+----------+-----+--------+----+------------+------------+-----------+---------+\n",
      "|      date|Month|week_num|Year|week_day_num|week_day_abb|   location|new_cases|\n",
      "+----------+-----+--------+----+------------+------------+-----------+---------+\n",
      "|2020-02-24|    2|       5|2020|           1|         Mon|Afghanistan|      1.0|\n",
      "|2020-02-25|    2|       5|2020|           2|         Tue|Afghanistan|      0.0|\n",
      "|2020-02-26|    2|       5|2020|           3|         Wed|Afghanistan|      0.0|\n",
      "|2020-02-27|    2|       5|2020|           4|         Thu|Afghanistan|      0.0|\n",
      "|2020-02-28|    2|       5|2020|           5|         Fri|Afghanistan|      0.0|\n",
      "+----------+-----+--------+----+------------+------------+-----------+---------+\n",
      "only showing top 5 rows\n",
      "\n"
     ]
    }
   ],
   "source": [
    "df_3.show(5)"
   ]
  },
  {
   "cell_type": "code",
   "execution_count": 565,
   "id": "fb2d343b",
   "metadata": {},
   "outputs": [],
   "source": [
    "# отфильтруем данные по последней неделе марта 2021 года\n",
    "df_3 = df_3.select('date','week_num','week_day_num', 'week_day_abb', 'location', 'new_cases').where((df_3['Year']==2021) & (df_3['Month']==3) & (df_3['week_num']==5))"
   ]
  },
  {
   "cell_type": "code",
   "execution_count": 566,
   "id": "81d9d2ce",
   "metadata": {},
   "outputs": [
    {
     "name": "stdout",
     "output_type": "stream",
     "text": [
      "+----------+--------+------------+------------+-----------+---------+\n",
      "|      date|week_num|week_day_num|week_day_abb|   location|new_cases|\n",
      "+----------+--------+------------+------------+-----------+---------+\n",
      "|2021-03-28|       5|           7|         Sun|Afghanistan|      4.0|\n",
      "|2021-03-29|       5|           1|         Mon|Afghanistan|     28.0|\n",
      "|2021-03-30|       5|           2|         Tue|Afghanistan|     62.0|\n",
      "|2021-03-31|       5|           3|         Wed|Afghanistan|     70.0|\n",
      "|2021-03-28|       5|           7|         Sun|    Albania|    493.0|\n",
      "+----------+--------+------------+------------+-----------+---------+\n",
      "only showing top 5 rows\n",
      "\n"
     ]
    }
   ],
   "source": [
    "df_3.show(5)"
   ]
  },
  {
   "cell_type": "code",
   "execution_count": 567,
   "id": "9892f839",
   "metadata": {},
   "outputs": [],
   "source": [
    "# c помощью оконной функции отсортируем данные по странам и с помощью row_number присвоим наибольшему количеству new_cases номер 1\n",
    "df_3 = df_3.select('*', F.row_number().over(W.partitionBy('location').orderBy(col('new_cases').desc())).alias('row_num'))"
   ]
  },
  {
   "cell_type": "code",
   "execution_count": 568,
   "id": "9f43deea",
   "metadata": {},
   "outputs": [
    {
     "name": "stdout",
     "output_type": "stream",
     "text": [
      "+----------+--------+------------+------------+-----------+---------+-------+\n",
      "|      date|week_num|week_day_num|week_day_abb|   location|new_cases|row_num|\n",
      "+----------+--------+------------+------------+-----------+---------+-------+\n",
      "|2021-03-31|       5|           3|         Wed|Afghanistan|     70.0|      1|\n",
      "|2021-03-30|       5|           2|         Tue|Afghanistan|     62.0|      2|\n",
      "|2021-03-29|       5|           1|         Mon|Afghanistan|     28.0|      3|\n",
      "|2021-03-28|       5|           7|         Sun|Afghanistan|      4.0|      4|\n",
      "|2021-03-28|       5|           7|         Sun|    Albania|    493.0|      1|\n",
      "+----------+--------+------------+------------+-----------+---------+-------+\n",
      "only showing top 5 rows\n",
      "\n"
     ]
    }
   ],
   "source": [
    "df_3.show(5)"
   ]
  },
  {
   "cell_type": "code",
   "execution_count": 570,
   "id": "668a49d4",
   "metadata": {},
   "outputs": [
    {
     "name": "stdout",
     "output_type": "stream",
     "text": [
      "+----------+-------------+---------+\n",
      "|      date|     location|new_cases|\n",
      "+----------+-------------+---------+\n",
      "|2021-03-31|       Brazil|  90638.0|\n",
      "|2021-03-31|        India|  72330.0|\n",
      "|2021-03-29|United States|  69429.0|\n",
      "|2021-03-31|       France|  59054.0|\n",
      "|2021-03-31|       Turkey|  39302.0|\n",
      "|2021-03-31|       Poland|  32891.0|\n",
      "|2021-03-31|      Germany|  25014.0|\n",
      "|2021-03-31|        Italy|  23887.0|\n",
      "|2021-03-30|       Sweden|  16427.0|\n",
      "|2021-03-31|    Argentina|  16056.0|\n",
      "|2021-03-31|         Peru|  15686.0|\n",
      "|2021-03-29|        Spain|  15501.0|\n",
      "|2021-03-28|      Ukraine|  12041.0|\n",
      "|2021-03-31|         Iran|  10330.0|\n",
      "|2021-03-29|  Philippines|  10002.0|\n",
      "+----------+-------------+---------+\n",
      "only showing top 15 rows\n",
      "\n"
     ]
    }
   ],
   "source": [
    "# отфильтруем наши данные по row_number 1 и расположим количество new_cases в порядке убывания и выведем 15 строк\n",
    "df_3.select('date', 'location', 'new_cases',).where(df_3['row_num']==1).orderBy(F.desc('new_cases')).show(15)"
   ]
  },
  {
   "cell_type": "code",
   "execution_count": null,
   "id": "005651ab",
   "metadata": {},
   "outputs": [],
   "source": [
    "# решим задачу 2 способом с помощью max и join"
   ]
  },
  {
   "cell_type": "code",
   "execution_count": 574,
   "id": "7c91eaec",
   "metadata": {},
   "outputs": [],
   "source": [
    "# отфильтруем наши данные по последней неделе марта и исключим не страны\n",
    "df_4 = df.select('date', 'location', 'new_cases').where((date_format(col('date'), 'Y')==2021) & (date_format(col('date'), 'M')==3) & (date_format(col('date'), 'W')==5) & (~df.location.isin(excluded)))"
   ]
  },
  {
   "cell_type": "code",
   "execution_count": 575,
   "id": "684fefdc",
   "metadata": {},
   "outputs": [
    {
     "name": "stdout",
     "output_type": "stream",
     "text": [
      "+----------+-----------+---------+\n",
      "|      date|   location|new_cases|\n",
      "+----------+-----------+---------+\n",
      "|2021-03-28|Afghanistan|      4.0|\n",
      "|2021-03-29|Afghanistan|     28.0|\n",
      "|2021-03-30|Afghanistan|     62.0|\n",
      "|2021-03-31|Afghanistan|     70.0|\n",
      "|2021-03-28|    Albania|    493.0|\n",
      "|2021-03-29|    Albania|    285.0|\n",
      "|2021-03-30|    Albania|    304.0|\n",
      "|2021-03-31|    Albania|    434.0|\n",
      "|2021-03-28|    Algeria|     86.0|\n",
      "|2021-03-29|    Algeria|    110.0|\n",
      "|2021-03-30|    Algeria|    115.0|\n",
      "|2021-03-31|    Algeria|    131.0|\n",
      "|2021-03-28|    Andorra|     41.0|\n",
      "|2021-03-29|    Andorra|     38.0|\n",
      "|2021-03-30|    Andorra|     56.0|\n",
      "|2021-03-31|    Andorra|     66.0|\n",
      "|2021-03-28|     Angola|     32.0|\n",
      "|2021-03-29|     Angola|     69.0|\n",
      "|2021-03-30|     Angola|     50.0|\n",
      "|2021-03-31|     Angola|    129.0|\n",
      "+----------+-----------+---------+\n",
      "only showing top 20 rows\n",
      "\n"
     ]
    }
   ],
   "source": [
    "df_4.show()"
   ]
  },
  {
   "cell_type": "code",
   "execution_count": 577,
   "id": "b4d5730f",
   "metadata": {},
   "outputs": [],
   "source": [
    "# найдем максимальное значение new_cases для страны и расположим их в порядке убывания\n",
    "df_5 = df_4.groupBy('location').agg(max('new_cases').alias('max_cases')).orderBy(F.desc(max('new_cases')))"
   ]
  },
  {
   "cell_type": "code",
   "execution_count": 578,
   "id": "694fa671",
   "metadata": {},
   "outputs": [
    {
     "name": "stdout",
     "output_type": "stream",
     "text": [
      "+-------------+---------+\n",
      "|     location|max_cases|\n",
      "+-------------+---------+\n",
      "|       Brazil|  90638.0|\n",
      "|        India|  72330.0|\n",
      "|United States|  69429.0|\n",
      "|       France|  59054.0|\n",
      "|       Turkey|  39302.0|\n",
      "|       Poland|  32891.0|\n",
      "|      Germany|  25014.0|\n",
      "|        Italy|  23887.0|\n",
      "|       Sweden|  16427.0|\n",
      "|    Argentina|  16056.0|\n",
      "|         Peru|  15686.0|\n",
      "|        Spain|  15501.0|\n",
      "|      Ukraine|  12041.0|\n",
      "|         Iran|  10330.0|\n",
      "|  Philippines|  10002.0|\n",
      "|       Serbia|   9983.0|\n",
      "|      Hungary|   9082.0|\n",
      "|       Russia|   8979.0|\n",
      "|       Canada|   8728.0|\n",
      "|      Czechia|   8664.0|\n",
      "+-------------+---------+\n",
      "only showing top 20 rows\n",
      "\n"
     ]
    }
   ],
   "source": [
    "df_5.show()"
   ]
  },
  {
   "cell_type": "code",
   "execution_count": 579,
   "id": "2c0d3e44",
   "metadata": {},
   "outputs": [
    {
     "name": "stdout",
     "output_type": "stream",
     "text": [
      "+----------+-------------+---------+\n",
      "|      date|     location|max_cases|\n",
      "+----------+-------------+---------+\n",
      "|2021-03-31|       Brazil|  90638.0|\n",
      "|2021-03-31|        India|  72330.0|\n",
      "|2021-03-29|United States|  69429.0|\n",
      "|2021-03-31|       France|  59054.0|\n",
      "|2021-03-31|       Turkey|  39302.0|\n",
      "|2021-03-31|       Poland|  32891.0|\n",
      "|2021-03-31|      Germany|  25014.0|\n",
      "|2021-03-31|        Italy|  23887.0|\n",
      "|2021-03-30|       Sweden|  16427.0|\n",
      "|2021-03-31|    Argentina|  16056.0|\n",
      "|2021-03-31|         Peru|  15686.0|\n",
      "|2021-03-29|        Spain|  15501.0|\n",
      "|2021-03-28|      Ukraine|  12041.0|\n",
      "|2021-03-31|         Iran|  10330.0|\n",
      "|2021-03-29|  Philippines|  10002.0|\n",
      "+----------+-------------+---------+\n",
      "only showing top 15 rows\n",
      "\n"
     ]
    }
   ],
   "source": [
    "# с помощью join соединим два датафрейма по location и max_cases, уберем ненужные колонки и отсортируем количество новых случаев в порядке убывания\n",
    "# и выведем 15 строк. Проверяем первое и второе решение совпало.\n",
    "df_4.join(df_5, (df_4[\"location\"] == df_5[\"location\"]) &\n",
    "   ( df_4[\"new_cases\"] == df_5[\"max_cases\"])).drop(df_4['new_cases'], df_4['location']).orderBy(F.desc('max_cases')).show(15)"
   ]
  },
  {
   "cell_type": "markdown",
   "id": "cba0e408",
   "metadata": {},
   "source": [
    "Задача 3. Посчитайте изменение случаев относительно предыдущего дня в России за последнюю неделю марта 2021. (например: в россии вчера было 9150 , сегодня 8763, итог: -387) (в выходящем датасете необходимы колонки: число, кол-во новых случаев вчера, кол-во новых случаев сегодня, дельта)"
   ]
  },
  {
   "cell_type": "code",
   "execution_count": 580,
   "id": "c6bc4eae",
   "metadata": {},
   "outputs": [],
   "source": [
    "# отфильтруем данные по последней неделе марта 2021 года и стране Россия\n",
    "df_6 = df.select('date', date_format(col('date'), 'M').alias('Month'),date_format(col('date'), 'W').alias('week_num'), date_format(col('date'), 'Y').alias('Year'),date_format(col('date'), 'u').alias('week_day_num'), date_format(col('date'), 'E').alias('week_day_abb'), 'new_cases').where((date_format(col('date'), 'Y')==2021) & (date_format(col('date'), 'M')==3) & (date_format(col('date'), 'W')==5) & (F.col('location')=='Russia')).orderBy(F.col('date'))"
   ]
  },
  {
   "cell_type": "code",
   "execution_count": 581,
   "id": "5abe798d",
   "metadata": {},
   "outputs": [
    {
     "name": "stdout",
     "output_type": "stream",
     "text": [
      "+----------+-----+--------+----+------------+------------+---------+\n",
      "|      date|Month|week_num|Year|week_day_num|week_day_abb|new_cases|\n",
      "+----------+-----+--------+----+------------+------------+---------+\n",
      "|2021-03-28|    3|       5|2021|           7|         Sun|   8979.0|\n",
      "|2021-03-29|    3|       5|2021|           1|         Mon|   8589.0|\n",
      "|2021-03-30|    3|       5|2021|           2|         Tue|   8162.0|\n",
      "|2021-03-31|    3|       5|2021|           3|         Wed|   8156.0|\n",
      "+----------+-----+--------+----+------------+------------+---------+\n",
      "\n"
     ]
    }
   ],
   "source": [
    "df_6.show(5)"
   ]
  },
  {
   "cell_type": "code",
   "execution_count": 582,
   "id": "bdca6f77",
   "metadata": {},
   "outputs": [],
   "source": [
    "# сгруппируем данные по дате и сумируем количество новых случаев\n",
    "df_6 = df_6.groupBy('date').agg(sum('new_cases').alias('new_cases')).orderBy(F.col('date'))"
   ]
  },
  {
   "cell_type": "code",
   "execution_count": 584,
   "id": "ada8e2c2",
   "metadata": {},
   "outputs": [
    {
     "name": "stdout",
     "output_type": "stream",
     "text": [
      "+----------+---------+\n",
      "|      date|new_cases|\n",
      "+----------+---------+\n",
      "|2021-03-28|   8979.0|\n",
      "|2021-03-29|   8589.0|\n",
      "|2021-03-30|   8162.0|\n",
      "|2021-03-31|   8156.0|\n",
      "+----------+---------+\n",
      "\n"
     ]
    }
   ],
   "source": [
    "df_6.show()"
   ]
  },
  {
   "cell_type": "code",
   "execution_count": 585,
   "id": "a0bbec65",
   "metadata": {},
   "outputs": [
    {
     "name": "stdout",
     "output_type": "stream",
     "text": [
      "+----------+-----------+---------------+------+\n",
      "|      date|cases_today|cases_yesterday| delta|\n",
      "+----------+-----------+---------------+------+\n",
      "|2021-03-28|     8979.0|           null|  null|\n",
      "|2021-03-29|     8589.0|         8979.0|-390.0|\n",
      "|2021-03-30|     8162.0|         8589.0|-427.0|\n",
      "|2021-03-31|     8156.0|         8162.0|  -6.0|\n",
      "+----------+-----------+---------------+------+\n",
      "\n"
     ]
    }
   ],
   "source": [
    "# с помощью оконной функции и метода lag найдем количество случаев на день ранее и посчитаем дельту\n",
    "df_6.select('date', F.col('new_cases').alias('cases_today'), lag('new_cases', 1,).over(W.orderBy('date')).alias('cases_yesterday'), (F.col('new_cases') - lag('new_cases', 1,).over(W.orderBy('date'))).alias('delta')).show()"
   ]
  },
  {
   "cell_type": "code",
   "execution_count": 586,
   "id": "1d0fbe1b",
   "metadata": {},
   "outputs": [],
   "source": [
    "spark.stop()\n",
    "sc.stop()"
   ]
  }
 ],
 "metadata": {
  "kernelspec": {
   "display_name": "Python 3 (ipykernel)",
   "language": "python",
   "name": "python3"
  },
  "language_info": {
   "codemirror_mode": {
    "name": "ipython",
    "version": 3
   },
   "file_extension": ".py",
   "mimetype": "text/x-python",
   "name": "python",
   "nbconvert_exporter": "python",
   "pygments_lexer": "ipython3",
   "version": "3.9.7"
  }
 },
 "nbformat": 4,
 "nbformat_minor": 5
}
